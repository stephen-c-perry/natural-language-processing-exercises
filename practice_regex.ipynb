{
 "cells": [
  {
   "cell_type": "code",
   "execution_count": 1,
   "metadata": {},
   "outputs": [],
   "source": [
    "import pandas as pd\n",
    "import numpy as np\n",
    "#regex module\n",
    "import re"
   ]
  },
  {
   "cell_type": "code",
   "execution_count": 2,
   "metadata": {},
   "outputs": [],
   "source": [
    "def show_all_matches(regexes, subject, re_length = 6):\n",
    "    print('Sentence')\n",
    "    print()\n",
    "    print('     {}'.format(subject))\n",
    "    print()\n",
    "    print('     regexp{} | matches'.format(' ' * (re_length - 6)))\n",
    "    print(' ------{} | -------'.format(' ' * (re_length - 6)))\n",
    "    for regexp in regexes:\n",
    "        fmt = ' {:<%d} | {!r}' % re_length\n",
    "        matches = re.findall(regexp, subject)\n",
    "        if len(matches) > 8:\n",
    "            matches = matches[:8] + ['...']\n",
    "        print(fmt.format(regexp, matches))"
   ]
  },
  {
   "cell_type": "code",
   "execution_count": 3,
   "metadata": {},
   "outputs": [
    {
     "name": "stdout",
     "output_type": "stream",
     "text": [
      "Sentence\n",
      "\n",
      "     Wow this is kind of wild but I think I am getting it.\n",
      "\n",
      "     regexp | matches\n",
      " ------ | -------\n",
      " d      | ['d', 'd']\n",
      " s      | ['s', 's']\n",
      " a      | ['a']\n",
      " m      | ['m']\n"
     ]
    }
   ],
   "source": [
    "sentence = 'Wow this is kind of wild but I think I am getting it.'\n",
    "\n",
    "show_all_matches([r'd', r's', r'a', r'm'], sentence)"
   ]
  },
  {
   "attachments": {},
   "cell_type": "markdown",
   "metadata": {},
   "source": [
    "Kind of like an advanced form of indexing.  Using the regular expressions and metacharacters you tell the machine what to look for in the natural language and what to do with what it finds."
   ]
  },
  {
   "cell_type": "code",
   "execution_count": 7,
   "metadata": {},
   "outputs": [
    {
     "name": "stdout",
     "output_type": "stream",
     "text": [
      "Sentence\n",
      "\n",
      "     Singing my ABCs and 123s\n",
      "\n",
      "     regexp | matches\n",
      " ------ | -------\n",
      " \\d     | ['1', '2', '3']\n",
      " \\w     | ['S', 'i', 'n', 'g', 'i', 'n', 'g', 'm', '...']\n",
      " \\W     | [' ', ' ', ' ', ' ']\n",
      " \\s     | [' ', ' ', ' ', ' ']\n"
     ]
    }
   ],
   "source": [
    "sentence = 'Singing my ABCs and 123s'\n",
    "\n",
    "show_all_matches([r'\\d', r'\\w', r'\\W', r'\\s'], sentence)"
   ]
  },
  {
   "attachments": {},
   "cell_type": "markdown",
   "metadata": {},
   "source": [
    "can be combined together to return a specific combination of characters\n"
   ]
  },
  {
   "cell_type": "code",
   "execution_count": 9,
   "metadata": {},
   "outputs": [
    {
     "name": "stdout",
     "output_type": "stream",
     "text": [
      "Sentence\n",
      "\n",
      "     Mary had a little lamb. 1 little lamb. Not 10, not 12, not 22, just one.\n",
      "\n",
      "     regexp    | matches\n",
      " ------    | -------\n",
      " l\\w\\w\\w\\W | ['lamb.', 'lamb.']\n",
      " \\d\\d      | ['10', '12', '22']\n"
     ]
    }
   ],
   "source": [
    "sentence = 'Mary had a little lamb. 1 little lamb. Not 10, not 12, not 22, just one.'\n",
    "\n",
    "show_all_matches([r'l\\w\\w\\w\\W', r'\\d\\d'], sentence, re_length=9)"
   ]
  },
  {
   "cell_type": "code",
   "execution_count": null,
   "metadata": {},
   "outputs": [],
   "source": []
  }
 ],
 "metadata": {
  "kernelspec": {
   "display_name": "base",
   "language": "python",
   "name": "python3"
  },
  "language_info": {
   "codemirror_mode": {
    "name": "ipython",
    "version": 3
   },
   "file_extension": ".py",
   "mimetype": "text/x-python",
   "name": "python",
   "nbconvert_exporter": "python",
   "pygments_lexer": "ipython3",
   "version": "3.9.13"
  },
  "orig_nbformat": 4,
  "vscode": {
   "interpreter": {
    "hash": "38cca0c38332a56087b24af0bc80247f4fced29cb4f7f437d91dc159adec9c4e"
   }
  }
 },
 "nbformat": 4,
 "nbformat_minor": 2
}
