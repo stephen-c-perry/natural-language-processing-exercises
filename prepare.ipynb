{
 "cells": [
  {
   "cell_type": "code",
   "execution_count": 1,
   "metadata": {},
   "outputs": [
    {
     "name": "stderr",
     "output_type": "stream",
     "text": [
      "[nltk_data] Downloading package wordnet to\n",
      "[nltk_data]     /Users/yogibexar/nltk_data...\n",
      "[nltk_data]   Package wordnet is already up-to-date!\n",
      "[nltk_data] Downloading package stopwords to\n",
      "[nltk_data]     /Users/yogibexar/nltk_data...\n",
      "[nltk_data]   Package stopwords is already up-to-date!\n",
      "[nltk_data] Downloading package omw-1.4 to\n",
      "[nltk_data]     /Users/yogibexar/nltk_data...\n",
      "[nltk_data]   Package omw-1.4 is already up-to-date!\n"
     ]
    }
   ],
   "source": [
    "import unicodedata\n",
    "import re\n",
    "import json\n",
    "\n",
    "import nltk\n",
    "from nltk.tokenize.toktok import ToktokTokenizer\n",
    "from nltk.corpus import stopwords\n",
    "\n",
    "import pandas as pd\n",
    "import prepare as p\n",
    "import acquire as a"
   ]
  },
  {
   "attachments": {},
   "cell_type": "markdown",
   "metadata": {},
   "source": [
    "In this exercise we will be defining some functions to prepare textual data. These functions should apply equally well to both the codeup blog articles and the news articles that were previously acquired.\n",
    "\n",
    "1. Define a function named basic_clean. It should take in a string and apply some basic text cleaning to it:\n",
    "\n",
    "- Lowercase everything\n",
    "- Normalize unicode characters\n",
    "- Replace anything that is not a letter, number, whitespace or a single quote.\n"
   ]
  },
  {
   "cell_type": "code",
   "execution_count": 2,
   "metadata": {},
   "outputs": [],
   "source": [
    "string = 'Testing the function. 123!'"
   ]
  },
  {
   "cell_type": "code",
   "execution_count": 3,
   "metadata": {},
   "outputs": [
    {
     "data": {
      "text/plain": [
       "'testing the function 123'"
      ]
     },
     "execution_count": 3,
     "metadata": {},
     "output_type": "execute_result"
    }
   ],
   "source": [
    "p.basic_clean(string)"
   ]
  },
  {
   "attachments": {},
   "cell_type": "markdown",
   "metadata": {},
   "source": [
    "\n",
    "2. Define a function named tokenize. It should take in a string and tokenize all the words in the string.\n"
   ]
  },
  {
   "cell_type": "code",
   "execution_count": 4,
   "metadata": {},
   "outputs": [
    {
     "data": {
      "text/plain": [
       "'Testing the function. 123 !'"
      ]
     },
     "execution_count": 4,
     "metadata": {},
     "output_type": "execute_result"
    }
   ],
   "source": [
    "p.tokenize(string)"
   ]
  },
  {
   "attachments": {},
   "cell_type": "markdown",
   "metadata": {},
   "source": [
    "\n",
    "3. Define a function named stem. It should accept some text and return the text after applying stemming to all the words.\n"
   ]
  },
  {
   "cell_type": "code",
   "execution_count": 5,
   "metadata": {},
   "outputs": [
    {
     "data": {
      "text/plain": [
       "'test the function. 123!'"
      ]
     },
     "execution_count": 5,
     "metadata": {},
     "output_type": "execute_result"
    }
   ],
   "source": [
    "p.stem(string)"
   ]
  },
  {
   "attachments": {},
   "cell_type": "markdown",
   "metadata": {},
   "source": [
    "\n",
    "4. Define a function named lemmatize. It should accept some text and return the text after applying lemmatization to each word.\n"
   ]
  },
  {
   "cell_type": "code",
   "execution_count": 6,
   "metadata": {},
   "outputs": [
    {
     "data": {
      "text/plain": [
       "'Testing the function. 123!'"
      ]
     },
     "execution_count": 6,
     "metadata": {},
     "output_type": "execute_result"
    }
   ],
   "source": [
    "p.lemmatize(string)"
   ]
  },
  {
   "attachments": {},
   "cell_type": "markdown",
   "metadata": {},
   "source": [
    "\n",
    "5. Define a function named remove_stopwords. It should accept some text and return the text after removing all the stopwords.\n",
    "\n",
    "- This function should define two optional parameters, extra_words and exclude_words. These parameters should define any additional stop words to include, and any words that we don't want to remove.\n"
   ]
  },
  {
   "cell_type": "code",
   "execution_count": 7,
   "metadata": {},
   "outputs": [
    {
     "data": {
      "text/plain": [
       "'Testing function. 123!'"
      ]
     },
     "execution_count": 7,
     "metadata": {},
     "output_type": "execute_result"
    }
   ],
   "source": [
    "p.remove_stopwords(string, extra_words= 'python', exclude_words= 'the')"
   ]
  },
  {
   "attachments": {},
   "cell_type": "markdown",
   "metadata": {},
   "source": [
    "\n",
    "6. Use your data from the acquire to produce a dataframe of the news articles. Name the dataframe news_df.\n"
   ]
  },
  {
   "cell_type": "code",
   "execution_count": 8,
   "metadata": {},
   "outputs": [],
   "source": [
    "news_df = a.get_news()"
   ]
  },
  {
   "cell_type": "code",
   "execution_count": 9,
   "metadata": {},
   "outputs": [
    {
     "data": {
      "text/html": [
       "<div>\n",
       "<style scoped>\n",
       "    .dataframe tbody tr th:only-of-type {\n",
       "        vertical-align: middle;\n",
       "    }\n",
       "\n",
       "    .dataframe tbody tr th {\n",
       "        vertical-align: top;\n",
       "    }\n",
       "\n",
       "    .dataframe thead th {\n",
       "        text-align: right;\n",
       "    }\n",
       "</style>\n",
       "<table border=\"1\" class=\"dataframe\">\n",
       "  <thead>\n",
       "    <tr style=\"text-align: right;\">\n",
       "      <th></th>\n",
       "      <th>title</th>\n",
       "      <th>content</th>\n",
       "      <th>category</th>\n",
       "    </tr>\n",
       "  </thead>\n",
       "  <tbody>\n",
       "    <tr>\n",
       "      <th>0</th>\n",
       "      <td>Case filed against Gauri Khan in UP's Lucknow ...</td>\n",
       "      <td>An FIR has been filed against Gauri Khan and o...</td>\n",
       "      <td>national</td>\n",
       "    </tr>\n",
       "    <tr>\n",
       "      <th>1</th>\n",
       "      <td>Messi buys 35 gold iPhones worth ₹1.7 cr for W...</td>\n",
       "      <td>Argentina footballer Lionel Messi has reported...</td>\n",
       "      <td>national</td>\n",
       "    </tr>\n",
       "    <tr>\n",
       "      <th>2</th>\n",
       "      <td>It was mayhem: Mark Waugh on Indore pitch for ...</td>\n",
       "      <td>Former Australia batter Mark Waugh criticised ...</td>\n",
       "      <td>national</td>\n",
       "    </tr>\n",
       "    <tr>\n",
       "      <th>3</th>\n",
       "      <td>Asked him for tips, he said 'At the end of the...</td>\n",
       "      <td>Australia left-arm spinner Matthew Kuhnemann h...</td>\n",
       "      <td>national</td>\n",
       "    </tr>\n",
       "    <tr>\n",
       "      <th>4</th>\n",
       "      <td>Mockery of Test cricket: Dilip Vengsarkar on I...</td>\n",
       "      <td>After 14 wickets fell on Day 1 of the India-Au...</td>\n",
       "      <td>national</td>\n",
       "    </tr>\n",
       "  </tbody>\n",
       "</table>\n",
       "</div>"
      ],
      "text/plain": [
       "                                               title  \\\n",
       "0  Case filed against Gauri Khan in UP's Lucknow ...   \n",
       "1  Messi buys 35 gold iPhones worth ₹1.7 cr for W...   \n",
       "2  It was mayhem: Mark Waugh on Indore pitch for ...   \n",
       "3  Asked him for tips, he said 'At the end of the...   \n",
       "4  Mockery of Test cricket: Dilip Vengsarkar on I...   \n",
       "\n",
       "                                             content  category  \n",
       "0  An FIR has been filed against Gauri Khan and o...  national  \n",
       "1  Argentina footballer Lionel Messi has reported...  national  \n",
       "2  Former Australia batter Mark Waugh criticised ...  national  \n",
       "3  Australia left-arm spinner Matthew Kuhnemann h...  national  \n",
       "4  After 14 wickets fell on Day 1 of the India-Au...  national  "
      ]
     },
     "execution_count": 9,
     "metadata": {},
     "output_type": "execute_result"
    }
   ],
   "source": [
    "news_df.head()"
   ]
  },
  {
   "attachments": {},
   "cell_type": "markdown",
   "metadata": {},
   "source": [
    "\n",
    "7. Make another dataframe for the Codeup blog posts. Name the dataframe codeup_df.\n"
   ]
  },
  {
   "cell_type": "code",
   "execution_count": 10,
   "metadata": {},
   "outputs": [],
   "source": [
    "codeup_df = a.get_blogs()"
   ]
  },
  {
   "attachments": {},
   "cell_type": "markdown",
   "metadata": {},
   "source": [
    "\n",
    "8. For each dataframe, produce the following columns:\n",
    "\n",
    "- title to hold the title\n",
    "- original to hold the original article/post content\n",
    "- clean to hold the normalized and tokenized original with the stopwords removed.\n",
    "- stemmed to hold the stemmed version of the cleaned data.\n",
    "- lemmatized to hold the lemmatized version of the cleaned data.\n"
   ]
  },
  {
   "cell_type": "code",
   "execution_count": 12,
   "metadata": {},
   "outputs": [
    {
     "data": {
      "text/html": [
       "<div>\n",
       "<style scoped>\n",
       "    .dataframe tbody tr th:only-of-type {\n",
       "        vertical-align: middle;\n",
       "    }\n",
       "\n",
       "    .dataframe tbody tr th {\n",
       "        vertical-align: top;\n",
       "    }\n",
       "\n",
       "    .dataframe thead th {\n",
       "        text-align: right;\n",
       "    }\n",
       "</style>\n",
       "<table border=\"1\" class=\"dataframe\">\n",
       "  <thead>\n",
       "    <tr style=\"text-align: right;\">\n",
       "      <th></th>\n",
       "      <th>title</th>\n",
       "      <th>original</th>\n",
       "      <th>clean</th>\n",
       "      <th>stemmed</th>\n",
       "      <th>lemmatized</th>\n",
       "    </tr>\n",
       "  </thead>\n",
       "  <tbody>\n",
       "    <tr>\n",
       "      <th>0</th>\n",
       "      <td>Black Excellence in Tech: Panelist Spotlight –...</td>\n",
       "      <td>Black excellence in tech: Panelist Spotlight –...</td>\n",
       "      <td>black excellence tech panelist spotlight wilma...</td>\n",
       "      <td>black excel tech panelist spotlight wilmari de...</td>\n",
       "      <td>black excellence tech panelist spotlight wilma...</td>\n",
       "    </tr>\n",
       "    <tr>\n",
       "      <th>1</th>\n",
       "      <td>Black excellence in tech: Panelist Spotlight –...</td>\n",
       "      <td>Black excellence in tech: Panelist Spotlight –...</td>\n",
       "      <td>black excellence tech panelist spotlight steph...</td>\n",
       "      <td>black excel tech panelist spotlight stephani jone</td>\n",
       "      <td>black excellence tech panelist spotlight steph...</td>\n",
       "    </tr>\n",
       "    <tr>\n",
       "      <th>2</th>\n",
       "      <td>Black excellence in tech: Panelist Spotlight –...</td>\n",
       "      <td>Black excellence in tech: Panelist Spotlight –...</td>\n",
       "      <td>black excellence tech panelist spotlight james...</td>\n",
       "      <td>black excel tech panelist spotlight jame cooper</td>\n",
       "      <td>black excellence tech panelist spotlight james...</td>\n",
       "    </tr>\n",
       "    <tr>\n",
       "      <th>3</th>\n",
       "      <td>Black excellence in tech: Panelist Spotlight –...</td>\n",
       "      <td>Black excellence in tech: Panelist Spotlight –...</td>\n",
       "      <td>black excellence tech panelist spotlight jeani...</td>\n",
       "      <td>black excel tech panelist spotlight jeanic fre...</td>\n",
       "      <td>black excellence tech panelist spotlight jeani...</td>\n",
       "    </tr>\n",
       "    <tr>\n",
       "      <th>4</th>\n",
       "      <td>Coding Bootcamp or Self-Learning? Which is Bes...</td>\n",
       "      <td>If you’re interested in embarking on a career ...</td>\n",
       "      <td>coding bootcamp selflearning best</td>\n",
       "      <td>code bootcamp selflearn best</td>\n",
       "      <td>coding bootcamp selflearning best</td>\n",
       "    </tr>\n",
       "    <tr>\n",
       "      <th>5</th>\n",
       "      <td>Codeup Among Top 58 Best Coding Bootcamps of 2023</td>\n",
       "      <td>Codeup is pleased to announce we have been ran...</td>\n",
       "      <td>codeup among top 58 best coding bootcamps 2023</td>\n",
       "      <td>codeup among top 58 best code bootcamp 2023</td>\n",
       "      <td>codeup among top 58 best coding bootcamps 2023</td>\n",
       "    </tr>\n",
       "  </tbody>\n",
       "</table>\n",
       "</div>"
      ],
      "text/plain": [
       "                                               title  \\\n",
       "0  Black Excellence in Tech: Panelist Spotlight –...   \n",
       "1  Black excellence in tech: Panelist Spotlight –...   \n",
       "2  Black excellence in tech: Panelist Spotlight –...   \n",
       "3  Black excellence in tech: Panelist Spotlight –...   \n",
       "4  Coding Bootcamp or Self-Learning? Which is Bes...   \n",
       "5  Codeup Among Top 58 Best Coding Bootcamps of 2023   \n",
       "\n",
       "                                            original  \\\n",
       "0  Black excellence in tech: Panelist Spotlight –...   \n",
       "1  Black excellence in tech: Panelist Spotlight –...   \n",
       "2  Black excellence in tech: Panelist Spotlight –...   \n",
       "3  Black excellence in tech: Panelist Spotlight –...   \n",
       "4  If you’re interested in embarking on a career ...   \n",
       "5  Codeup is pleased to announce we have been ran...   \n",
       "\n",
       "                                               clean  \\\n",
       "0  black excellence tech panelist spotlight wilma...   \n",
       "1  black excellence tech panelist spotlight steph...   \n",
       "2  black excellence tech panelist spotlight james...   \n",
       "3  black excellence tech panelist spotlight jeani...   \n",
       "4                  coding bootcamp selflearning best   \n",
       "5     codeup among top 58 best coding bootcamps 2023   \n",
       "\n",
       "                                             stemmed  \\\n",
       "0  black excel tech panelist spotlight wilmari de...   \n",
       "1  black excel tech panelist spotlight stephani jone   \n",
       "2    black excel tech panelist spotlight jame cooper   \n",
       "3  black excel tech panelist spotlight jeanic fre...   \n",
       "4                       code bootcamp selflearn best   \n",
       "5        codeup among top 58 best code bootcamp 2023   \n",
       "\n",
       "                                          lemmatized  \n",
       "0  black excellence tech panelist spotlight wilma...  \n",
       "1  black excellence tech panelist spotlight steph...  \n",
       "2  black excellence tech panelist spotlight james...  \n",
       "3  black excellence tech panelist spotlight jeani...  \n",
       "4                  coding bootcamp selflearning best  \n",
       "5     codeup among top 58 best coding bootcamps 2023  "
      ]
     },
     "execution_count": 12,
     "metadata": {},
     "output_type": "execute_result"
    }
   ],
   "source": [
    "p.prep_data(codeup_df, 'title')"
   ]
  },
  {
   "cell_type": "code",
   "execution_count": 13,
   "metadata": {},
   "outputs": [
    {
     "data": {
      "text/html": [
       "<div>\n",
       "<style scoped>\n",
       "    .dataframe tbody tr th:only-of-type {\n",
       "        vertical-align: middle;\n",
       "    }\n",
       "\n",
       "    .dataframe tbody tr th {\n",
       "        vertical-align: top;\n",
       "    }\n",
       "\n",
       "    .dataframe thead th {\n",
       "        text-align: right;\n",
       "    }\n",
       "</style>\n",
       "<table border=\"1\" class=\"dataframe\">\n",
       "  <thead>\n",
       "    <tr style=\"text-align: right;\">\n",
       "      <th></th>\n",
       "      <th>title</th>\n",
       "      <th>original</th>\n",
       "      <th>clean</th>\n",
       "      <th>stemmed</th>\n",
       "      <th>lemmatized</th>\n",
       "    </tr>\n",
       "  </thead>\n",
       "  <tbody>\n",
       "    <tr>\n",
       "      <th>0</th>\n",
       "      <td>Case filed against Gauri Khan in UP's Lucknow ...</td>\n",
       "      <td>An FIR has been filed against Gauri Khan and o...</td>\n",
       "      <td>case filed gauri khan ' lucknow property dispute</td>\n",
       "      <td>case file gauri khan ' lucknow properti disput</td>\n",
       "      <td>case filed gauri khan ' lucknow property dispute</td>\n",
       "    </tr>\n",
       "    <tr>\n",
       "      <th>1</th>\n",
       "      <td>Messi buys 35 gold iPhones worth ₹1.7 cr for W...</td>\n",
       "      <td>Argentina footballer Lionel Messi has reported...</td>\n",
       "      <td>messi buys 35 gold iphones worth 17 cr world c...</td>\n",
       "      <td>messi buy 35 gold iphon worth 17 cr world cupw...</td>\n",
       "      <td>messi buy 35 gold iphones worth 17 cr world cu...</td>\n",
       "    </tr>\n",
       "    <tr>\n",
       "      <th>2</th>\n",
       "      <td>It was mayhem: Mark Waugh on Indore pitch for ...</td>\n",
       "      <td>Former Australia batter Mark Waugh criticised ...</td>\n",
       "      <td>mayhem mark waugh indore pitch indiaaustralia ...</td>\n",
       "      <td>mayhem mark waugh indor pitch indiaaustralia test</td>\n",
       "      <td>mayhem mark waugh indore pitch indiaaustralia ...</td>\n",
       "    </tr>\n",
       "    <tr>\n",
       "      <th>3</th>\n",
       "      <td>Asked him for tips, he said 'At the end of the...</td>\n",
       "      <td>Australia left-arm spinner Matthew Kuhnemann h...</td>\n",
       "      <td>asked tips said ' end series ' australia ' kuh...</td>\n",
       "      <td>ask tip said ' end seri ' australia ' kuhneman...</td>\n",
       "      <td>asked tip said ' end series ' australia ' kuhn...</td>\n",
       "    </tr>\n",
       "    <tr>\n",
       "      <th>4</th>\n",
       "      <td>Mockery of Test cricket: Dilip Vengsarkar on I...</td>\n",
       "      <td>After 14 wickets fell on Day 1 of the India-Au...</td>\n",
       "      <td>mockery test cricket dilip vengsarkar indiaaus...</td>\n",
       "      <td>mockeri test cricket dilip vengsarkar indiaaus...</td>\n",
       "      <td>mockery test cricket dilip vengsarkar indiaaus...</td>\n",
       "    </tr>\n",
       "    <tr>\n",
       "      <th>...</th>\n",
       "      <td>...</td>\n",
       "      <td>...</td>\n",
       "      <td>...</td>\n",
       "      <td>...</td>\n",
       "      <td>...</td>\n",
       "    </tr>\n",
       "    <tr>\n",
       "      <th>295</th>\n",
       "      <td>Bengaluru's Rapid Road project put on hold ove...</td>\n",
       "      <td>The Bruhat Bengaluru Mahanagara Palike (BBMP) ...</td>\n",
       "      <td>bengaluru ' rapid road project put hold paymen...</td>\n",
       "      <td>bengaluru ' rapid road project put hold paymen...</td>\n",
       "      <td>bengaluru ' rapid road project put hold paymen...</td>\n",
       "    </tr>\n",
       "    <tr>\n",
       "      <th>296</th>\n",
       "      <td>Bombay HC uploading Marathi translations of ju...</td>\n",
       "      <td>The Bombay High Court on Wednesday started upl...</td>\n",
       "      <td>bombay hc uploading marathi translations judgm...</td>\n",
       "      <td>bombay hc upload marathi translat judgment websit</td>\n",
       "      <td>bombay hc uploading marathi translation judgme...</td>\n",
       "    </tr>\n",
       "    <tr>\n",
       "      <th>297</th>\n",
       "      <td>Tragic human error caused Greece's worst train...</td>\n",
       "      <td>Greek PM Kyriakos Mitsotakis said a \"tragic hu...</td>\n",
       "      <td>tragic human error caused greece ' worst train...</td>\n",
       "      <td>tragic human error caus greec ' worst train cr...</td>\n",
       "      <td>tragic human error caused greece ' worst train...</td>\n",
       "    </tr>\n",
       "    <tr>\n",
       "      <th>298</th>\n",
       "      <td>India's metal exports to be hurt by EU's carbo...</td>\n",
       "      <td>The exports of metals from India will suffer d...</td>\n",
       "      <td>india ' metal exports hurt eu ' carbon tax gtri</td>\n",
       "      <td>india ' metal export hurt eu ' carbon tax gtri</td>\n",
       "      <td>india ' metal export hurt eu ' carbon tax gtri</td>\n",
       "    </tr>\n",
       "    <tr>\n",
       "      <th>299</th>\n",
       "      <td>Alphabet's Waymo cuts 137 jobs to 'focus on co...</td>\n",
       "      <td>Alphabet Inc's self-driving technology unit, W...</td>\n",
       "      <td>alphabet ' waymo cuts 137 jobs ' focus commerc...</td>\n",
       "      <td>alphabet ' waymo cut 137 job ' focu commerci s...</td>\n",
       "      <td>alphabet ' waymo cut 137 job ' focus commercia...</td>\n",
       "    </tr>\n",
       "  </tbody>\n",
       "</table>\n",
       "<p>300 rows × 5 columns</p>\n",
       "</div>"
      ],
      "text/plain": [
       "                                                 title  \\\n",
       "0    Case filed against Gauri Khan in UP's Lucknow ...   \n",
       "1    Messi buys 35 gold iPhones worth ₹1.7 cr for W...   \n",
       "2    It was mayhem: Mark Waugh on Indore pitch for ...   \n",
       "3    Asked him for tips, he said 'At the end of the...   \n",
       "4    Mockery of Test cricket: Dilip Vengsarkar on I...   \n",
       "..                                                 ...   \n",
       "295  Bengaluru's Rapid Road project put on hold ove...   \n",
       "296  Bombay HC uploading Marathi translations of ju...   \n",
       "297  Tragic human error caused Greece's worst train...   \n",
       "298  India's metal exports to be hurt by EU's carbo...   \n",
       "299  Alphabet's Waymo cuts 137 jobs to 'focus on co...   \n",
       "\n",
       "                                              original  \\\n",
       "0    An FIR has been filed against Gauri Khan and o...   \n",
       "1    Argentina footballer Lionel Messi has reported...   \n",
       "2    Former Australia batter Mark Waugh criticised ...   \n",
       "3    Australia left-arm spinner Matthew Kuhnemann h...   \n",
       "4    After 14 wickets fell on Day 1 of the India-Au...   \n",
       "..                                                 ...   \n",
       "295  The Bruhat Bengaluru Mahanagara Palike (BBMP) ...   \n",
       "296  The Bombay High Court on Wednesday started upl...   \n",
       "297  Greek PM Kyriakos Mitsotakis said a \"tragic hu...   \n",
       "298  The exports of metals from India will suffer d...   \n",
       "299  Alphabet Inc's self-driving technology unit, W...   \n",
       "\n",
       "                                                 clean  \\\n",
       "0     case filed gauri khan ' lucknow property dispute   \n",
       "1    messi buys 35 gold iphones worth 17 cr world c...   \n",
       "2    mayhem mark waugh indore pitch indiaaustralia ...   \n",
       "3    asked tips said ' end series ' australia ' kuh...   \n",
       "4    mockery test cricket dilip vengsarkar indiaaus...   \n",
       "..                                                 ...   \n",
       "295  bengaluru ' rapid road project put hold paymen...   \n",
       "296  bombay hc uploading marathi translations judgm...   \n",
       "297  tragic human error caused greece ' worst train...   \n",
       "298    india ' metal exports hurt eu ' carbon tax gtri   \n",
       "299  alphabet ' waymo cuts 137 jobs ' focus commerc...   \n",
       "\n",
       "                                               stemmed  \\\n",
       "0       case file gauri khan ' lucknow properti disput   \n",
       "1    messi buy 35 gold iphon worth 17 cr world cupw...   \n",
       "2    mayhem mark waugh indor pitch indiaaustralia test   \n",
       "3    ask tip said ' end seri ' australia ' kuhneman...   \n",
       "4    mockeri test cricket dilip vengsarkar indiaaus...   \n",
       "..                                                 ...   \n",
       "295  bengaluru ' rapid road project put hold paymen...   \n",
       "296  bombay hc upload marathi translat judgment websit   \n",
       "297  tragic human error caus greec ' worst train cr...   \n",
       "298     india ' metal export hurt eu ' carbon tax gtri   \n",
       "299  alphabet ' waymo cut 137 job ' focu commerci s...   \n",
       "\n",
       "                                            lemmatized  \n",
       "0     case filed gauri khan ' lucknow property dispute  \n",
       "1    messi buy 35 gold iphones worth 17 cr world cu...  \n",
       "2    mayhem mark waugh indore pitch indiaaustralia ...  \n",
       "3    asked tip said ' end series ' australia ' kuhn...  \n",
       "4    mockery test cricket dilip vengsarkar indiaaus...  \n",
       "..                                                 ...  \n",
       "295  bengaluru ' rapid road project put hold paymen...  \n",
       "296  bombay hc uploading marathi translation judgme...  \n",
       "297  tragic human error caused greece ' worst train...  \n",
       "298     india ' metal export hurt eu ' carbon tax gtri  \n",
       "299  alphabet ' waymo cut 137 job ' focus commercia...  \n",
       "\n",
       "[300 rows x 5 columns]"
      ]
     },
     "execution_count": 13,
     "metadata": {},
     "output_type": "execute_result"
    }
   ],
   "source": [
    "p.prep_data(news_df, 'title')"
   ]
  },
  {
   "attachments": {},
   "cell_type": "markdown",
   "metadata": {},
   "source": [
    "\n",
    "9. Ask yourself:\n",
    "\n",
    "- If your corpus is 493KB, would you prefer to use stemmed or lemmatized text?\n",
    "\n",
    "        lemmatized\n",
    "\n",
    "- If your corpus is 25MB, would you prefer to use stemmed or lemmatized text?\n",
    "\n",
    "        lemmatized\n",
    "\n",
    "- If your corpus is 200TB of text and you're charged by the megabyte for your hosted computational resources, would you prefer to use stemmed or lemmatized text?\n",
    "\n",
    "        stemmed"
   ]
  },
  {
   "cell_type": "markdown",
   "metadata": {},
   "source": [
    "\n",
    "- - -\n",
    "- - -\n",
    "- - -"
   ]
  }
 ],
 "metadata": {
  "kernelspec": {
   "display_name": "base",
   "language": "python",
   "name": "python3"
  },
  "language_info": {
   "codemirror_mode": {
    "name": "ipython",
    "version": 3
   },
   "file_extension": ".py",
   "mimetype": "text/x-python",
   "name": "python",
   "nbconvert_exporter": "python",
   "pygments_lexer": "ipython3",
   "version": "3.9.13"
  },
  "orig_nbformat": 4,
  "vscode": {
   "interpreter": {
    "hash": "38cca0c38332a56087b24af0bc80247f4fced29cb4f7f437d91dc159adec9c4e"
   }
  }
 },
 "nbformat": 4,
 "nbformat_minor": 2
}
